{
 "cells": [
  {
   "cell_type": "code",
   "execution_count": 1,
   "metadata": {},
   "outputs": [
    {
     "name": "stdout",
     "output_type": "stream",
     "text": [
      "Tebak angka!\n",
      "Mulai? y/n\n",
      "y\n",
      "Game sudah dimulai silahkan mulai menebak!\n",
      "Jawaban:8\n",
      "Jawaban salah\n"
     ]
    }
   ],
   "source": [
    "import random\n",
    "\n",
    "rand=random.randrange(0,10)\n",
    "print(\"Tebak angka!\")\n",
    "print(\"Mulai? y/n\")\n",
    "start=input()\n",
    "if start == \"y\":\n",
    "    print(\"Game sudah dimulai silahkan mulai menebak!\")\n",
    "    ans=input(\"Jawaban:\")\n",
    "    if ans != rand:\n",
    "        print(\"Jawaban salah\")\n",
    "    else:\n",
    "        print(\"Jawaban benar\")\n",
    "else:\n",
    "    print(\"Selamat bermain di lain waktu\")"
   ]
  },
  {
   "cell_type": "code",
   "execution_count": 2,
   "metadata": {},
   "outputs": [
    {
     "name": "stdout",
     "output_type": "stream",
     "text": [
      "Welcome to Number Guesser Game!\n",
      "Guess the number! \n",
      "\n",
      "Lives:10\n",
      "\n",
      "Silahkan Masukkan jawaban dari 1-100:50\n",
      "Kurang \n",
      "\n",
      "Lives:9\n",
      "\n",
      "Silahkan Masukkan jawaban dari 1-100:60\n",
      "Lebih \n",
      "\n",
      "Lives:8\n",
      "\n",
      "Silahkan Masukkan jawaban dari 1-100:55\n",
      "Lebih \n",
      "\n",
      "Lives:7\n",
      "\n",
      "Silahkan Masukkan jawaban dari 1-100:52\n",
      "Kurang \n",
      "\n",
      "Lives:6\n",
      "\n",
      "Silahkan Masukkan jawaban dari 1-100:53\n",
      "Kurang \n",
      "\n",
      "Lives:5\n",
      "\n",
      "Silahkan Masukkan jawaban dari 1-100:54\n",
      "Benar \n",
      "\n",
      "Terima Kasih Telah Bermain!\n"
     ]
    }
   ],
   "source": [
    "#Author: fafanammar\n",
    "#Number Guessing Game Using Python\n",
    "\n",
    "#import random library\n",
    "import random\n",
    "\n",
    "#assign random number using randrange function from random library\n",
    "correctAns=random.randrange(1,100)\n",
    "\n",
    "#assign the lives\n",
    "lives=10\n",
    "\n",
    "print(\"Welcome to Number Guesser Game!\")\n",
    "print(\"Guess the number! \\n\")\n",
    "\n",
    "#while loop starting the game if lives still more than zero\n",
    "while lives >=0 :\n",
    "    if lives != 0:\n",
    "        #print the remaining lives\n",
    "        print(\"Lives:\" + str(lives) + \"\\n\")\n",
    "        #player input their guess\n",
    "        playerinput=int(input(\"Silahkan Masukkan jawaban dari 1-100:\"))\n",
    "        if playerinput == correctAns:\n",
    "            compare=\"Benar\"\n",
    "        elif playerinput > correctAns:\n",
    "            compare=\"Lebih\"\n",
    "        elif playerinput < correctAns:\n",
    "            compare=\"Kurang\"\n",
    "\n",
    "        if compare == \"Lebih\":\n",
    "            print(\"Lebih \\n\")\n",
    "        elif compare == \"Kurang\":\n",
    "            print(\"Kurang \\n\")\n",
    "        else:\n",
    "            print(\"Benar \\n\")\n",
    "            print(\"Terima Kasih Telah Bermain!\")\n",
    "            break\n",
    "    elif lives == 0:\n",
    "        print(\"Game Over! \\n\")\n",
    "    lives -= 1"
   ]
  },
  {
   "cell_type": "code",
   "execution_count": null,
   "metadata": {},
   "outputs": [],
   "source": []
  }
 ],
 "metadata": {
  "kernelspec": {
   "display_name": "Python 3",
   "language": "python",
   "name": "python3"
  },
  "language_info": {
   "codemirror_mode": {
    "name": "ipython",
    "version": 3
   },
   "file_extension": ".py",
   "mimetype": "text/x-python",
   "name": "python",
   "nbconvert_exporter": "python",
   "pygments_lexer": "ipython3",
   "version": "3.7.0"
  }
 },
 "nbformat": 4,
 "nbformat_minor": 4
}
