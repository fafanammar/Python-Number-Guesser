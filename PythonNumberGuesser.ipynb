{
 "cells": [
  {
   "cell_type": "code",
   "execution_count": null,
   "metadata": {},
   "outputs": [],
   "source": [
    "import random\n",
    "\n",
    "rand=random.randrange(0,10)\n",
    "print(\"Tebak angka!\")\n",
    "print(\"Mulai? y/n\")\n",
    "start=input()\n",
    "if start == \"y\":\n",
    "    print(\"Game sudah dimulai silahkan mulai menebak!\")\n",
    "    ans=input(\"Jawaban:\")\n",
    "    if ans != rand:\n",
    "        print(\"Jawaban salah\")\n",
    "    else:\n",
    "        print(\"Jawaban benar\")\n",
    "else:\n",
    "    print(\"Selamat bermain di lain waktu\")"
   ]
  },
  {
   "cell_type": "code",
   "execution_count": null,
   "metadata": {},
   "outputs": [],
   "source": [
    "#Author: fafanammar\n",
    "#Number Guessing Game Using Python\n",
    "\n",
    "#import random library\n",
    "import random\n",
    "\n",
    "#assign random number using randrange function from random library\n",
    "correctAns=random.randrange(1,100)\n",
    "\n",
    "#assign the lives\n",
    "lives=10\n",
    "\n",
    "print(\"Welcome to Number Guesser Game!\")\n",
    "print(\"Guess the number! \\n\")\n",
    "\n",
    "#while loop starting the game if lives still more than zero\n",
    "while lives >=0 :\n",
    "    if lives != 0:\n",
    "        #print the remaining lives\n",
    "        print(\"Lives:\" + str(lives) + \"\\n\")\n",
    "        #player input their guess\n",
    "        playerinput=int(input(\"Silahkan Masukkan jawaban dari 1-100:\"))\n",
    "        if playerinput == correctAns:\n",
    "            compare=\"Benar\"\n",
    "        elif playerinput > correctAns:\n",
    "            compare=\"Lebih\"\n",
    "        elif playerinput < correctAns:\n",
    "            compare=\"Kurang\"\n",
    "\n",
    "        if compare == \"Lebih\":\n",
    "            print(\"Lebih \\n\")\n",
    "        elif compare == \"Kurang\":\n",
    "            print(\"Kurang \\n\")\n",
    "        else:\n",
    "            print(\"Benar \\n\")\n",
    "            print(\"Terima Kasih Telah Bermain!\")\n",
    "            break\n",
    "    elif lives == 0:\n",
    "        print(\"Game Over! \\n\")\n",
    "    lives -= 1"
   ]
  },
  {
   "cell_type": "code",
   "execution_count": null,
   "metadata": {},
   "outputs": [],
   "source": []
  },
  {
   "cell_type": "code",
   "execution_count": null,
   "metadata": {},
   "outputs": [],
   "source": []
  }
 ],
 "metadata": {
  "kernelspec": {
   "display_name": "Python 3",
   "language": "python",
   "name": "python3"
  },
  "language_info": {
   "codemirror_mode": {
    "name": "ipython",
    "version": 3
   },
   "file_extension": ".py",
   "mimetype": "text/x-python",
   "name": "python",
   "nbconvert_exporter": "python",
   "pygments_lexer": "ipython3",
   "version": "3.7.0"
  }
 },
 "nbformat": 4,
 "nbformat_minor": 4
}
